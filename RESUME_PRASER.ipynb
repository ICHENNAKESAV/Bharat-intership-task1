{
  "nbformat": 4,
  "nbformat_minor": 0,
  "metadata": {
    "colab": {
      "provenance": []
    },
    "kernelspec": {
      "name": "python3",
      "display_name": "Python 3"
    },
    "language_info": {
      "name": "python"
    }
  },
  "cells": [
    {
      "cell_type": "code",
      "execution_count": null,
      "metadata": {
        "colab": {
          "base_uri": "https://localhost:8080/"
        },
        "id": "KlHGFe5rzvjp",
        "outputId": "e549f676-10b5-4147-f52e-84328140e226"
      },
      "outputs": [
        {
          "output_type": "stream",
          "name": "stderr",
          "text": [
            "[nltk_data] Downloading package punkt to /root/nltk_data...\n",
            "[nltk_data]   Unzipping tokenizers/punkt.zip.\n",
            "[nltk_data] Downloading package stopwords to /root/nltk_data...\n",
            "[nltk_data]   Unzipping corpora/stopwords.zip.\n"
          ]
        },
        {
          "output_type": "execute_result",
          "data": {
            "text/plain": [
              "True"
            ]
          },
          "metadata": {},
          "execution_count": 1
        }
      ],
      "source": [
        "import nltk\n",
        "from nltk.tokenize import word_tokenize, sent_tokenize\n",
        "from nltk.corpus import stopwords\n",
        "from nltk.tag import pos_tag\n",
        "from nltk import FreqDist\n",
        "nltk.download('punkt')\n",
        "nltk.download('stopwords')"
      ]
    },
    {
      "cell_type": "code",
      "source": [
        "def preprocess_text(text):\n",
        "    # Tokenize the text\n",
        "    tokens = word_tokenize(text.lower())\n",
        "\n",
        "    # Remove stopwords\n",
        "    stop_words = set(stopwords.words(\"english\")) #selected text language is English\n",
        "    filtered_tokens = [token for token in tokens if token not in stop_words]\n",
        "\n",
        "    return filtered_tokens"
      ],
      "metadata": {
        "id": "gFlqHKYd0DgA"
      },
      "execution_count": null,
      "outputs": []
    },
    {
      "cell_type": "code",
      "source": [
        "def calculate_similarity(job_keywords, candidate_profile):\n",
        "    # Preprocess the job keywords and candidate profile\n",
        "    job_tokens = preprocess_text(job_keywords)\n",
        "    candidate_tokens = preprocess_text(candidate_profile)\n",
        "\n",
        "    # Calculate term frequencies\n",
        "    job_frequencies = FreqDist(job_tokens)\n",
        "    candidate_frequencies = FreqDist(candidate_tokens)\n",
        "\n",
        "    # Calculate the similarity score\n",
        "    common_tokens = set(job_frequencies.keys()) & set(candidate_frequencies.keys())\n",
        "    score = sum([job_frequencies[token] * candidate_frequencies[token] for token in common_tokens])\n",
        "\n",
        "    return score"
      ],
      "metadata": {
        "id": "SS2YOXyb0MZA"
      },
      "execution_count": null,
      "outputs": []
    },
    {
      "cell_type": "code",
      "source": [
        "def find_best_candidate(job_keywords, candidate_details):\n",
        "    best_score = 0\n",
        "    best_candidate = None\n",
        "\n",
        "    for candidate in candidate_details:\n",
        "        candidate_profile = candidate['profile']\n",
        "        score = calculate_similarity(job_keywords, candidate_profile)\n",
        "\n",
        "        if score > best_score:\n",
        "            best_score = score\n",
        "            best_candidate = candidate['name']\n",
        "\n",
        "    return best_candidate"
      ],
      "metadata": {
        "id": "HEltKyN80PMi"
      },
      "execution_count": null,
      "outputs": []
    },
    {
      "cell_type": "code",
      "source": [
        "def take_job_inputs():\n",
        "    job_description = input(\"Enter the job description: \")\n",
        "    num_candidates = int(input(\"\\n\\nEnter the number of candidates: \"))\n",
        "\n",
        "    candidate_details = []\n",
        "    for i in range(num_candidates):\n",
        "        name = input(f\"\\n\\nEnter the name of candidate {i+1}: \")\n",
        "        profile = input(f\"\\n\\nEnter the profile details of candidate {i+1}: \")\n",
        "        candidate_details.append({'name': name, 'profile': profile})\n",
        "\n",
        "    return job_description, candidate_details"
      ],
      "metadata": {
        "id": "hFmuFllJ0UCt"
      },
      "execution_count": null,
      "outputs": []
    },
    {
      "cell_type": "code",
      "source": [
        "def take_job_inputs():\n",
        "    job_description = input(\"Enter the job description: \")\n",
        "    num_candidates = int(input(\"\\n\\nEnter the number of candidates: \"))\n",
        "\n",
        "    candidate_details = []\n",
        "    for i in range(num_candidates):\n",
        "        name = input(f\"\\n\\nEnter the name of candidate {i+1}: \")\n",
        "        profile = input(f\"\\n\\nEnter the profile details of candidate {i+1}: \")\n",
        "        candidate_details.append({'name': name, 'profile': profile})\n",
        "\n",
        "    return job_description, candidate_details\n",
        "def find_best_candidate_for_job(job_keywords, candidate_details):\n",
        "    best_score = 0\n",
        "    best_candidate = None\n",
        "\n",
        "    for candidate in candidate_details:\n",
        "        candidate_profile = candidate['profile']\n",
        "        score = calculate_similarity(job_keywords, candidate_profile)\n",
        "\n",
        "        if score > best_score:\n",
        "            best_score = score\n",
        "            best_candidate = candidate['name']\n",
        "\n",
        "    return best_candidate"
      ],
      "metadata": {
        "id": "qFLUolCi0Ybq"
      },
      "execution_count": null,
      "outputs": []
    },
    {
      "cell_type": "code",
      "source": [
        "job_description, candidate_details = take_job_inputs()"
      ],
      "metadata": {
        "colab": {
          "base_uri": "https://localhost:8080/"
        },
        "id": "dO7bFDA60har",
        "outputId": "5a3eb097-c2ab-4bcb-be20-d6986e398841"
      },
      "execution_count": null,
      "outputs": [
        {
          "name": "stdout",
          "output_type": "stream",
          "text": [
            "Enter the job description:  Sure, here is a sample job description for a data scientist:  Job Title: Data Scientist  Department: Analytics  Reports To: Head of Analytics  Summary:  We are looking for a highly motivated and experienced data scientist to join our team. The ideal candidate will have a strong understanding of data mining, machine learning, and statistical analysis. They will also be able to work independently and as part of a team to solve complex business problems.  Responsibilities:  Collect, clean, and analyze data from a variety of sources Develop and implement machine learning models Communicate findings to stakeholders in a clear and concise way Work with other teams to develop data-driven solutions Qualifications:  Master's degree in statistics, data science, or a related field 3+ years of experience in data science Strong programming skills in Python, R, or Scala Experience with machine learning algorithms Excellent communication and presentation skills Benefits:  Competitive salary and benefits package Opportunity to work on challenging and interesting projects Collaborative and supportive work environment\n",
            "\n",
            "\n",
            "Enter the number of candidates: 3\n",
            "\n",
            "\n",
            "Enter the name of candidate 1: KESHAV\n",
            "\n",
            "\n",
            "Enter the profile details of candidate 1: Highly motivated and talented AI enthusiast seeking an AI Intern position to leverage my skills and  knowledge in artificial intelligence. I am eager to contribute to cutting-edge projects, gain hands-on  experience, and further develop my expertise in machine learning and AI algorithms. Education: Bachelor of Science in Computer Science, XYZ University, City, State (Expected Graduation: May 2024) Relevant Coursework: - Machine Learning - Deep Learning - Data Mining and Analytics - Natural Language Processing - Computer Vision Skills: - Programming Languages: Python, Java, C++ - Machine Learning Frameworks: TensorFlow, PyTorch, scikit-learn - Data Preprocessing and Analysis - Deep Learning Architectures: CNNs, RNNs - Data Visualization Tools: Matplotlib, Plotly - Version Control Systems: Git - Problem-Solving and Critical Thinking - Strong Analytical Skills - Excellent Written and Verbal Communication Projects: 1. AI Chatbot System - Developed an AI-powered chatbot using natural language processing techniques. - Trained a deep learning model using TensorFlow to understand and respond to user queries. - Preprocessed and cleaned the chat data, optimizing its quality and relevance. - Achieved a 90% accuracy rate in classifying and generating appropriate responses. 2. Movie Recommendation System - Built a recommendation system using collaborative filtering and matrix factorization techniques. - Implemented the recommendation algorithm in Python, leveraging scikit-learn and pandas libraries. - Processed and analyzed large datasets to extract user preferences and generate accurate  recommendations. - Improved the user experience and achieved a 20% increase in click-through rates. Experience: AI Research Assistant, ABC Research Lab - Assisted research scientists in conducting experiments and analyzing data for various AI projects. - Contributed to the development and optimization of AI algorithms, particularly in computer vision. - Conducted literature reviews and stayed up-to-date with the latest AI research publications. - Collaborated with team members to document research findings and prepare technical reports. Technical Intern, XYZ Company - Worked on a team responsible for developing an AI-based fraud detection system. - Assisted in the implementation and testing of machine learning models using Python and  TensorFlow. - Conducted data preprocessing and analysis to identify patterns and anomalies in transaction  data. - Collaborated with developers to integrate the AI system into the existing software infrastructure.\n",
            "\n",
            "\n",
            "Enter the name of candidate 2: AKHIL\n",
            "\n",
            "\n",
            "Enter the profile details of candidate 2: Highly motivated and talented AI enthusiast seeking an AI Intern position to leverage my skills and  knowledge in artificial intelligence. I am eager to contribute to cutting-edge projects, gain hands-on  experience, and further develop my expertise in machine learning and AI algorithms. Education: Bachelor of Science in Computer Science, XYZ University, City, State (Expected Graduation: May 2024) Relevant Coursework: - Machine Learning - Deep Learning - Data Mining and Analytics - Natural Language Processing - Computer Vision Skills: - Programming Languages: Python, Java, C++ - Machine Learning Frameworks: TensorFlow, PyTorch, scikit-learn - Data Preprocessing and Analysis - Deep Learning Architectures: CNNs, RNNs - Data Visualization Tools: Matplotlib, Plotly - Version Control Systems: Git - Problem-Solving and Critical Thinking - Strong Analytical Skills - Excellent Written and Verbal Communication Projects: 1. AI Chatbot System - Developed an AI-powered chatbot using natural language processing techniques. - Trained a deep learning model using TensorFlow to understand and respond to user queries. - Preprocessed and cleaned the chat data, optimizing its quality and relevance. - Achieved a 90% accuracy rate in classifying and generating appropriate responses. 2. Movie Recommendation System - Built a recommendation system using collaborative filtering and matrix factorization techniques. - Implemented the recommendation algorithm in Python, leveraging scikit-learn and pandas libraries. - Processed and analyzed large datasets to extract user preferences and generate accurate  recommendations. - Improved the user experience and achieved a 20% increase in click-through rates. Experience: AI Research Assistant, ABC Research Lab - Assisted research scientists in conducting experiments and analyzing data for various AI projects. - Contributed to the development and optimization of AI algorithms, particularly in computer vision. - Conducted literature reviews and stayed up-to-date with the latest AI research publications. - Collaborated with team members to document research findings and prepare technical reports. Technical Intern, XYZ Company - Worked on a team responsible for developing an AI-based fraud detection system. - Assisted in the implementation and testing of machine learning models using Python and  TensorFlow. - Conducted data preprocessing and analysis to identify patterns and anomalies in transaction  data. - Collaborated with developers to integrate the AI system into the existing software infrastructure.\n",
            "\n",
            "\n",
            "Enter the name of candidate 3: ESWAR\n",
            "\n",
            "\n",
            "Enter the profile details of candidate 3: Highly motivated and talented AI enthusiast seeking an AI Intern position to leverage my skills and  knowledge in artificial intelligence. I am eager to contribute to cutting-edge projects, gain hands-on  experience, and further develop my expertise in machine learning and AI algorithms. Education: Bachelor of Science in Computer Science, XYZ University, City, State (Expected Graduation: May 2024) Relevant Coursework: - Machine Learning - Deep Learning - Data Mining and Analytics - Natural Language Processing - Computer Vision Skills: - Programming Languages: Python, Java, C++ - Machine Learning Frameworks: TensorFlow, PyTorch, scikit-learn - Data Preprocessing and Analysis - Deep Learning Architectures: CNNs, RNNs - Data Visualization Tools: Matplotlib, Plotly - Version Control Systems: Git - Problem-Solving and Critical Thinking - Strong Analytical Skills - Excellent Written and Verbal Communication Projects: 1. AI Chatbot System - Developed an AI-powered chatbot using natural language processing techniques. - Trained a deep learning model using TensorFlow to understand and respond to user queries. - Preprocessed and cleaned the chat data, optimizing its quality and relevance. - Achieved a 90% accuracy rate in classifying and generating appropriate responses. 2. Movie Recommendation System - Built a recommendation system using collaborative filtering and matrix factorization techniques. - Implemented the recommendation algorithm in Python, leveraging scikit-learn and pandas libraries. - Processed and analyzed large datasets to extract user preferences and generate accurate  recommendations. - Improved the user experience and achieved a 20% increase in click-through rates. Experience: AI Research Assistant, ABC Research Lab - Assisted research scientists in conducting experiments and analyzing data for various AI projects. - Contributed to the development and optimization of AI algorithms, particularly in computer vision. - Conducted literature reviews and stayed up-to-date with the latest AI research publications. - Collaborated with team members to document research findings and prepare technical reports. Technical Intern, XYZ Company - Worked on a team responsible for developing an AI-based fraud detection system. - Assisted in the implementation and testing of machine learning models using Python and  TensorFlow. - Conducted data preprocessing and analysis to identify patterns and anomalies in transaction  data. - Collaborated with developers to integrate the AI system into the existing software infrastructure.\n"
          ]
        }
      ]
    },
    {
      "cell_type": "code",
      "source": [
        "best_candidate = find_best_candidate_for_job(job_description, candidate_details)\n",
        "print(f\"The best candidate for the job is: {best_candidate}\")\n"
      ],
      "metadata": {
        "colab": {
          "base_uri": "https://localhost:8080/"
        },
        "id": "E-Enrz9s0iax",
        "outputId": "f02a02b5-8ea2-4e96-fdac-ea7820311505"
      },
      "execution_count": null,
      "outputs": [
        {
          "output_type": "stream",
          "name": "stdout",
          "text": [
            "The best candidate for the job is: KESHAV\n"
          ]
        }
      ]
    },
    {
      "cell_type": "code",
      "source": [],
      "metadata": {
        "id": "3kqkbYPk2yIn"
      },
      "execution_count": null,
      "outputs": []
    }
  ]
}